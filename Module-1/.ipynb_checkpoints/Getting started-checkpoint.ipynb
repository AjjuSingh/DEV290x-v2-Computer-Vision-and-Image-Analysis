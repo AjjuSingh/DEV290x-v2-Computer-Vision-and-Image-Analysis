{
 "cells": [
  {
   "cell_type": "markdown",
   "metadata": {},
   "source": [
    "#  Getting started"
   ]
  },
  {
   "cell_type": "markdown",
   "metadata": {},
   "source": [
    "Common libraries for working with images.\n",
    "1. PIL\n",
    "2. OpenCV\n",
    "3. Scikit-Image"
   ]
  },
  {
   "cell_type": "code",
   "execution_count": null,
   "metadata": {},
   "outputs": [],
   "source": [
    "!pip install scikit-image"
   ]
  },
  {
   "cell_type": "code",
   "execution_count": null,
   "metadata": {},
   "outputs": [],
   "source": [
    "from PIL import Image\n",
    "import skimage as sk\n",
    "from skimage import io as sk_io\n",
    "import cv2"
   ]
  },
  {
   "cell_type": "code",
   "execution_count": null,
   "metadata": {},
   "outputs": [],
   "source": [
    "images = []\n",
    "\n",
    "pil_image = Image.open(os.path.join(src_folder, \"automobile\", \"000522.jpg\"))\n",
    "images.append(pil_image)\n",
    "sk_image = sk_io.imread(os.path.join(src_folder, \"plane\", \"000228.jpg\"))\n",
    "images.append(sk_image)\n",
    "cv_image = cv2.imread(os.path.join(src_folder, \"train\", \"000712.jpg\"))\n",
    "images.append(cv_image)\n",
    "\n",
    "# Set up a figure of an appropriate size\n",
    "fig = plt.figure(figsize=(12, 12))\n",
    "\n",
    "image_num = 0\n",
    "num_images = len(images)\n",
    "# loop through the images\n",
    "for image_idx in range(num_images):\n",
    "    # Keep an incrementing count of each image\n",
    "    a=fig.add_subplot(1, num_images, image_idx+1)\n",
    "    # Add the image to the plot\n",
    "    image_plot = plt.imshow(images[image_idx])\n",
    "    # Add a caption with the folder name\n",
    "    a.set_title(\"Image \" + str(image_idx+1))\n",
    "        \n",
    "# Show the plot\n",
    "plt.show()"
   ]
  },
  {
   "cell_type": "markdown",
   "metadata": {},
   "source": [
    "# To convert PIL object to numpy array"
   ]
  },
  {
   "cell_type": "code",
   "execution_count": null,
   "metadata": {},
   "outputs": [],
   "source": [
    "pil_array - np.array(pil_image)"
   ]
  },
  {
   "cell_type": "code",
   "execution_count": null,
   "metadata": {},
   "outputs": [],
   "source": [
    "# Vice versa\n",
    "pil_sk_image = Image.fromarray(sk_image)"
   ]
  },
  {
   "cell_type": "code",
   "execution_count": null,
   "metadata": {},
   "outputs": [],
   "source": []
  }
 ],
 "metadata": {
  "kernelspec": {
   "display_name": "Python 3",
   "language": "python",
   "name": "python3"
  },
  "language_info": {
   "codemirror_mode": {
    "name": "ipython",
    "version": 3
   },
   "file_extension": ".py",
   "mimetype": "text/x-python",
   "name": "python",
   "nbconvert_exporter": "python",
   "pygments_lexer": "ipython3",
   "version": "3.7.4"
  }
 },
 "nbformat": 4,
 "nbformat_minor": 2
}
