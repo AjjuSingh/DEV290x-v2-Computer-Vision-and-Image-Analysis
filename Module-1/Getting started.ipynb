{
 "cells": [
  {
   "cell_type": "markdown",
   "metadata": {},
   "source": [
    "#  Getting started"
   ]
  },
  {
   "cell_type": "markdown",
   "metadata": {},
   "source": [
    "Common libraries for working with images.\n",
    "1. PIL\n",
    "2. OpenCV\n",
    "3. Scikit-Image"
   ]
  },
  {
   "cell_type": "code",
   "execution_count": 1,
   "metadata": {},
   "outputs": [
    {
     "name": "stdout",
     "output_type": "stream",
     "text": [
      "^C\n"
     ]
    }
   ],
   "source": [
    "!pip install scikit-image"
   ]
  },
  {
   "cell_type": "code",
   "execution_count": 2,
   "metadata": {},
   "outputs": [
    {
     "ename": "ModuleNotFoundError",
     "evalue": "No module named 'skimage'",
     "output_type": "error",
     "traceback": [
      "\u001b[1;31m---------------------------------------------------------------------------\u001b[0m",
      "\u001b[1;31mModuleNotFoundError\u001b[0m                       Traceback (most recent call last)",
      "\u001b[1;32m<ipython-input-2-21e481efa491>\u001b[0m in \u001b[0;36m<module>\u001b[1;34m\u001b[0m\n\u001b[0;32m      1\u001b[0m \u001b[1;32mfrom\u001b[0m \u001b[0mPIL\u001b[0m \u001b[1;32mimport\u001b[0m \u001b[0mImage\u001b[0m\u001b[1;33m\u001b[0m\u001b[1;33m\u001b[0m\u001b[0m\n\u001b[1;32m----> 2\u001b[1;33m \u001b[1;32mimport\u001b[0m \u001b[0mskimage\u001b[0m \u001b[1;32mas\u001b[0m \u001b[0msk\u001b[0m\u001b[1;33m\u001b[0m\u001b[1;33m\u001b[0m\u001b[0m\n\u001b[0m\u001b[0;32m      3\u001b[0m \u001b[1;32mfrom\u001b[0m \u001b[0mskimage\u001b[0m \u001b[1;32mimport\u001b[0m \u001b[0mio\u001b[0m \u001b[1;32mas\u001b[0m \u001b[0msk_io\u001b[0m\u001b[1;33m\u001b[0m\u001b[1;33m\u001b[0m\u001b[0m\n\u001b[0;32m      4\u001b[0m \u001b[1;32mimport\u001b[0m \u001b[0mcv2\u001b[0m\u001b[1;33m\u001b[0m\u001b[1;33m\u001b[0m\u001b[0m\n",
      "\u001b[1;31mModuleNotFoundError\u001b[0m: No module named 'skimage'"
     ]
    }
   ],
   "source": [
    "from PIL import Image\n",
    "import skimage as sk\n",
    "from skimage import io as sk_io\n",
    "import cv2"
   ]
  },
  {
   "cell_type": "code",
   "execution_count": null,
   "metadata": {},
   "outputs": [],
   "source": [
    "images = []\n",
    "\n",
    "pil_image = Image.open(os.path.join(src_folder, \"automobile\", \"000522.jpg\"))\n",
    "images.append(pil_image)\n",
    "sk_image = sk_io.imread(os.path.join(src_folder, \"plane\", \"000228.jpg\"))\n",
    "images.append(sk_image)\n",
    "cv_image = cv2.imread(os.path.join(src_folder, \"train\", \"000712.jpg\"))\n",
    "images.append(cv_image)\n",
    "\n",
    "# Set up a figure of an appropriate size\n",
    "fig = plt.figure(figsize=(12, 12))\n",
    "\n",
    "image_num = 0\n",
    "num_images = len(images)\n",
    "# loop through the images\n",
    "for image_idx in range(num_images):\n",
    "    # Keep an incrementing count of each image\n",
    "    a=fig.add_subplot(1, num_images, image_idx+1)\n",
    "    # Add the image to the plot\n",
    "    image_plot = plt.imshow(images[image_idx])\n",
    "    # Add a caption with the folder name\n",
    "    a.set_title(\"Image \" + str(image_idx+1))\n",
    "        \n",
    "# Show the plot\n",
    "plt.show()"
   ]
  },
  {
   "cell_type": "markdown",
   "metadata": {},
   "source": [
    "# To convert PIL object to numpy array"
   ]
  },
  {
   "cell_type": "code",
   "execution_count": null,
   "metadata": {},
   "outputs": [],
   "source": [
    "pil_array - np.array(pil_image)"
   ]
  },
  {
   "cell_type": "code",
   "execution_count": null,
   "metadata": {},
   "outputs": [],
   "source": [
    "# Vice versa\n",
    "pil_sk_image = Image.fromarray(sk_image)"
   ]
  },
  {
   "cell_type": "markdown",
   "metadata": {},
   "source": [
    "# Resizing images"
   ]
  },
  {
   "cell_type": "code",
   "execution_count": 3,
   "metadata": {},
   "outputs": [
    {
     "ename": "NameError",
     "evalue": "name 'pil_image' is not defined",
     "output_type": "error",
     "traceback": [
      "\u001b[1;31m---------------------------------------------------------------------------\u001b[0m",
      "\u001b[1;31mNameError\u001b[0m                                 Traceback (most recent call last)",
      "\u001b[1;32m<ipython-input-3-0e3dd93254e6>\u001b[0m in \u001b[0;36m<module>\u001b[1;34m\u001b[0m\n\u001b[0;32m      5\u001b[0m \u001b[1;33m\u001b[0m\u001b[0m\n\u001b[0;32m      6\u001b[0m \u001b[1;31m# Get the PIL image size\u001b[0m\u001b[1;33m\u001b[0m\u001b[1;33m\u001b[0m\u001b[1;33m\u001b[0m\u001b[0m\n\u001b[1;32m----> 7\u001b[1;33m \u001b[0mo_h\u001b[0m\u001b[1;33m,\u001b[0m \u001b[0mo_w\u001b[0m \u001b[1;33m=\u001b[0m \u001b[0mpil_image\u001b[0m\u001b[1;33m.\u001b[0m\u001b[0msize\u001b[0m\u001b[1;33m\u001b[0m\u001b[1;33m\u001b[0m\u001b[0m\n\u001b[0m\u001b[0;32m      8\u001b[0m \u001b[0mprint\u001b[0m\u001b[1;33m(\u001b[0m\u001b[1;34m'Original size:'\u001b[0m\u001b[1;33m,\u001b[0m \u001b[0mo_h\u001b[0m\u001b[1;33m,\u001b[0m \u001b[1;34m'x'\u001b[0m\u001b[1;33m,\u001b[0m \u001b[0mo_w\u001b[0m\u001b[1;33m)\u001b[0m\u001b[1;33m\u001b[0m\u001b[1;33m\u001b[0m\u001b[0m\n\u001b[0;32m      9\u001b[0m \u001b[1;33m\u001b[0m\u001b[0m\n",
      "\u001b[1;31mNameError\u001b[0m: name 'pil_image' is not defined"
     ]
    }
   ],
   "source": [
    "from PIL import Image, ImageOps\n",
    "import matplotlib.pyplot as plt\n",
    "%matplotlib inline\n",
    "\n",
    "\n",
    "# Get the PIL image size\n",
    "o_h, o_w = pil_image.size\n",
    "print('Original size:', o_h, 'x', o_w)\n",
    "\n",
    "# We'll resize this so it's 150 pixels on its widest dimensions\n",
    "target_size = (150,150)\n",
    "resized_img = pil_image.copy()\n",
    "resized_img.thumbnail(target_size, Image.ANTIALIAS)\n",
    "n_h, n_w = resized_img.size\n",
    "print('New size:', n_h, 'x', n_w)\n",
    "\n",
    "# Show the original and resized images\n",
    "# Create a figure\n",
    "fig = plt.figure(figsize=(12, 12))\n",
    "\n",
    "# Subplot for original image\n",
    "a=fig.add_subplot(1,2,1)\n",
    "imgplot = plt.imshow(pil_image)\n",
    "a.set_title('Before')\n",
    "\n",
    "# Subplot for resized image\n",
    "a=fig.add_subplot(1,2,2)\n",
    "imgplot = plt.imshow(resized_img)\n",
    "a.set_title('After')\n",
    "\n",
    "plt.show()"
   ]
  },
  {
   "cell_type": "code",
   "execution_count": null,
   "metadata": {},
   "outputs": [],
   "source": []
  }
 ],
 "metadata": {
  "kernelspec": {
   "display_name": "Python 3",
   "language": "python",
   "name": "python3"
  },
  "language_info": {
   "codemirror_mode": {
    "name": "ipython",
    "version": 3
   },
   "file_extension": ".py",
   "mimetype": "text/x-python",
   "name": "python",
   "nbconvert_exporter": "python",
   "pygments_lexer": "ipython3",
   "version": "3.7.4"
  }
 },
 "nbformat": 4,
 "nbformat_minor": 2
}
